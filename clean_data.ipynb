{
 "cells": [
  {
   "cell_type": "markdown",
   "metadata": {},
   "source": [
    "### En este módulo se pasa la hoja de excel a un dataframe. Finalmente se retorna un csv con los datos limpios.\n",
    "#### La reestructuración de los datos incluye: \n",
    "* Incluir una columna que contabiliza los semestres que ha cursado el alumno\n",
    "* Seleccionar a los alumnos que han cursado los cursos del major.\n",
    "* Eliminar los casos de convalidaciones\n",
    "* Realizar filtro de buen y mal rendimiento"
   ]
  },
  {
   "cell_type": "code",
   "execution_count": 1,
   "metadata": {},
   "outputs": [],
   "source": [
    "import pandas as pd\n",
    "\n",
    "data = pd.read_excel('notas_alumnos.xlsx', index_col=None, dtype={'ID': int, 'AÑO ADMISIÓN': int, 'MAJOR SELECCIONADO': str, \n",
    "                                                                  'SIGLA': str, 'NOMBRE CURSO': str, 'NOTA FINAL': float,\n",
    "                                                                  'AÑO': int, 'SEMESTRE': int, 'PPA GLOBAL': float})\n",
    "\n",
    "df = data[['ID', 'SIGLA', 'NOTA FINAL', 'AÑO', 'SEMESTRE', 'PPA GLOBAL']]"
   ]
  },
  {
   "cell_type": "code",
   "execution_count": 2,
   "metadata": {},
   "outputs": [],
   "source": [
    "# Agrupar los datos por alumno y agregar una columna que indica el número de semestre de la carrera\n",
    "stg = df.groupby('ID')\n",
    "sem_array = []\n",
    "for student, group in stg:\n",
    "    sem = 0\n",
    "    year = 0\n",
    "    path = 0\n",
    "    for row in group.itertuples():\n",
    "        if row.AÑO > year or row.SEMESTRE > sem:\n",
    "            year = row.AÑO\n",
    "            sem = row.SEMESTRE\n",
    "            path += 1\n",
    "        sem_array.append(path)\n",
    "\n",
    "df.insert(4, 'DURACIÓN', sem_array, True)"
   ]
  },
  {
   "cell_type": "code",
   "execution_count": 3,
   "metadata": {},
   "outputs": [],
   "source": [
    "# Seleccionar los alumnos que completaron el major (realizar los cursos mínimos)\n",
    "def students_selection(stgroups, courses, options=[]):\n",
    "    students = []\n",
    "    for student, group in stgroups:\n",
    "        done = group[\"SIGLA\"].tolist()\n",
    "        valid = False\n",
    "        if len(options) > 0:\n",
    "            for course in options:\n",
    "                if course in done:\n",
    "                    done.remove(course)\n",
    "                    valid = True\n",
    "        else:\n",
    "            valid = True\n",
    "        if set(courses) == set(done) and valid:\n",
    "            students.append(student)   \n",
    "    return students"
   ]
  },
  {
   "cell_type": "code",
   "execution_count": 4,
   "metadata": {},
   "outputs": [],
   "source": [
    "# Filtrar alumnos que han convalidado +3 cursos el primer semestre\n",
    "def filter_conv(df):\n",
    "    students = df.groupby(['ID'])\n",
    "    conv_students = []\n",
    "    filter_df = df\n",
    "    for student, group in students:\n",
    "        courses = group[\"SIGLA\"].tolist()\n",
    "        semestres = group[\"DURACIÓN\"].tolist()\n",
    "        if semestres[0] == semestres[1] and semestres[0] == semestres[2]:\n",
    "            conv_students.append(student)\n",
    "    for stud in conv_students:\n",
    "        filter_df = df[df.ID != stud]\n",
    "        filter_df = filter_df.reset_index(drop=True)\n",
    "    return filter_df"
   ]
  },
  {
   "cell_type": "code",
   "execution_count": 5,
   "metadata": {},
   "outputs": [],
   "source": [
    "# Leer los majors desde el archivo\n",
    "import json\n",
    "\n",
    "with open('majors.json', 'r', encoding='utf-8') as json_majors:\n",
    "    j = json_majors.read()\n",
    "    majors = json.loads(j)\n",
    "\n",
    "# Para cada major generar un archivo csv con los datos de sus alumnos.\n",
    "# Los alumnos deben tener aprobados todos los cursos del major.\n",
    "# Se generan 3 csv por major, uno general, uno de buen rendimiento y otro de mal rend.\n",
    "for major in majors:\n",
    "    df_base = df.loc[df['SIGLA'].isin(majors[major])]\n",
    "    df_approved = df_base[df_base['NOTA FINAL'] >= 4]\n",
    "    student_groups = df_approved.groupby(['ID'])\n",
    "    major_students = students_selection(student_groups, majors[major])\n",
    "    df_major = df_approved.loc[df_base['ID'].isin(major_students)]\n",
    "    df_major = filter_conv(df_major)\n",
    "    df_major.to_csv(\"data/{}.csv\".format(major))\n",
    "    good = df_major[df_major['PPA GLOBAL'] >= 5.5]\n",
    "    good.to_csv(\"data/{}-G.csv\".format(major))\n",
    "    bad = df_major[df_major['PPA GLOBAL'] < 5]\n",
    "    bad.to_csv(\"data/{}-B.csv\".format(major))\n"
   ]
  },
  {
   "cell_type": "code",
   "execution_count": 6,
   "metadata": {},
   "outputs": [],
   "source": [
    "# Generar CSV de los clusters\n",
    "cs = [[ 5, 24, 34, 43, 44, 48, 56, 61, 67, 69, 75, 82, 88, 90],\n",
    "      [ 4,  9, 10, 35, 39, 41, 46, 47, 49, 50, 51, 52, 57, 58, 59, 60, 63,\n",
    "       64, 65, 66, 68, 70, 72, 76, 78, 79, 84, 85, 86],\n",
    "      [ 0,  2,  3,  8, 11, 12, 13, 14, 15, 16, 17, 19, 25, 26, 27, 28, 29,\n",
    "       30, 31, 32, 36, 37, 38, 42, 45, 53, 54, 55, 87, 89],\n",
    "      [ 1,  6,  7, 18, 20, 21, 22, 23, 33, 40, 62, 71, 73, 74, 77, 80, 81,\n",
    "       83, 91]]\n",
    "for i in range(0,len(cs)):\n",
    "    major= 'Computación 2013'\n",
    "    df_base = df.loc[df['SIGLA'].isin(majors[major])]\n",
    "    df_approved = df_base[df_base['NOTA FINAL'] >= 4]\n",
    "    student_groups = df_approved.groupby(['ID'])\n",
    "    cluster_students = cs[i]\n",
    "    df_major = df_approved.loc[df_base['ID'].isin(major_students)]\n",
    "    df_major = filter_conv(df_major)\n",
    "    df_major.to_csv(\"data/{} c{}.csv\".format(major, i))"
   ]
  },
  {
   "cell_type": "code",
   "execution_count": null,
   "metadata": {},
   "outputs": [],
   "source": []
  }
 ],
 "metadata": {
  "kernelspec": {
   "display_name": "Python 3",
   "language": "python",
   "name": "python3"
  },
  "language_info": {
   "codemirror_mode": {
    "name": "ipython",
    "version": 3
   },
   "file_extension": ".py",
   "mimetype": "text/x-python",
   "name": "python",
   "nbconvert_exporter": "python",
   "pygments_lexer": "ipython3",
   "version": "3.7.3"
  }
 },
 "nbformat": 4,
 "nbformat_minor": 2
}
